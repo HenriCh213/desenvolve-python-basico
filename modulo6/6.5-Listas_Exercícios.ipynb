{
  "metadata": {
    "kernelspec": {
      "name": "python",
      "display_name": "Python (Pyodide)",
      "language": "python"
    },
    "language_info": {
      "codemirror_mode": {
        "name": "python",
        "version": 3
      },
      "file_extension": ".py",
      "mimetype": "text/x-python",
      "name": "python",
      "nbconvert_exporter": "python",
      "pygments_lexer": "ipython3",
      "version": "3.8"
    }
  },
  "nbformat_minor": 5,
  "nbformat": 4,
  "cells": [
    {
      "id": "0d5035b5",
      "cell_type": "markdown",
      "source": "# Listas\n\n## Aulas 6.1 a 6.5 ",
      "metadata": {}
    },
    {
      "id": "0bdece85",
      "cell_type": "markdown",
      "source": "### Q1. \n\nUsando a função embutida ```map``` e criando uma função ```lambda```, transforme uma lista com os raios de múltiplas circunferências em uma nova lista com as respectivas áreas. O cálculo de cada área é dado por: ```pi*(raio**2)```\n- Use a constante pi da biblioteca math \n- Arredonde o resultado para 2 casas decimais\n",
      "metadata": {}
    },
    {
      "id": "0a258eba",
      "cell_type": "code",
      "source": "## Complete a solução\n\nraios = [1.5, 0.8, 2.3, 5.0]\nlista = map(lambda n: 3.14*(n**2), raios)\nprint(list(lista))\n## Complete a solução\n",
      "metadata": {},
      "outputs": [],
      "execution_count": null
    },
    {
      "id": "649a5082",
      "cell_type": "markdown",
      "source": "### Q2. \n\nCrie uma função customizada e aplique a função embutida ```filter``` para operar em uma lista de listas contendo os lados de múltiplos triângulos. Construa uma nova lista contendo apenas os triângulos equiláteros, ou seja, com os três lados iguais.\n",
      "metadata": {}
    },
    {
      "id": "47cb0573",
      "cell_type": "code",
      "source": "## Crie a função customizada\ndef testa_equilatero(lados):\n    equil = []\n    if lados[0] == lados[2] == lados[1]:\n        equil.append(lados)\n    else:\n        pass\n    return equil\n\n### Usando filter, aplique a função customizada aos seguintes triangulos\ntriangulos  = [[2,2,2], [3,4,5], [3,2,2],[4,4,4]]\n\nequilatero = filter(testa_equilatero, triangulos)\n\nprint(list(equilatero))",
      "metadata": {},
      "outputs": [],
      "execution_count": null
    },
    {
      "id": "bb62d219",
      "cell_type": "markdown",
      "source": "### Q3. \nCrie uma função chamada ```ordena_por_comprimento``` que aceite uma lista de strings e a ordene com base no comprimento das strings, do menor para o maior. Utilize a função ```sorte``` e uma expressão ```lambda```.",
      "metadata": {}
    },
    {
      "id": "add41556",
      "cell_type": "code",
      "source": "### crie a função ordena_por_comprimento e retorne a lista resultado\n\n\n### aplique sua função à seguinte lista e imprima o resultado\nnomes = [\"Joao\", \"Maria\", \"Jose\", \"Gabriela\", \"Sol\", \"Luna\", \"Bento\", \"Enzo\", \"Fernanda\"]\n\n",
      "metadata": {},
      "outputs": [],
      "execution_count": null
    },
    {
      "id": "8710b1a7",
      "cell_type": "markdown",
      "source": "### Q4.\n\nCrie uma lista de listas (uma matriz de 2 dimensões) de tamanho $n \\times n$, com $n$ dado pelo usuário. Cada elemento da matriz deve ser o produto dos índices da linha pela coluna.\n\nExemplo:\n```\nDigite n: 4\nMatriz:\n[[0, 0, 0, 0],\n [0, 1, 2, 3],\n [0, 2, 4, 6],\n [0, 3, 6, 9]]\n```",
      "metadata": {}
    },
    {
      "id": "0b7ee921",
      "cell_type": "code",
      "source": "# Implemente sua solução aqui\n",
      "metadata": {},
      "outputs": [],
      "execution_count": null
    },
    {
      "id": "f41781df",
      "cell_type": "markdown",
      "source": "### Q5.\n\nDada uma lista de números inteiros, implemente uma função em Python chamada ```pares_unicos``` que encontre e retorne todos os pares únicos de elementos na lista cuja soma seja igual a um determinado valor. Considere que a ordem dos pares não é relevante.",
      "metadata": {}
    },
    {
      "id": "7a76f765",
      "cell_type": "code",
      "source": "def pares_unicos(numeros, soma_objetivo):\n    # Implemente sua solução aqui\n\n# Exemplo de uso:\nnums = [3, 4, 5, 6, 7]\nsoma = 10\nresultado = pares_unicos(nums, soma)\nprint(resultado)  # Saída esperada: [(3, 7), (4, 6)]",
      "metadata": {},
      "outputs": [],
      "execution_count": null
    },
    {
      "id": "87e44893",
      "cell_type": "markdown",
      "source": "### Q5.\n\nEscreva um programa para encontrar a diferença entre duas listas, incluindo elementos duplicados.\n\nEx:\n```\nListas originais: \n[1, 1, 2, 3, 3, 4, 4, 5, 6, 7]\n[1, 1, 2, 4, 5, 6]\nDiferença entre as listas:\n[3, 3, 4, 7]\n```",
      "metadata": {}
    },
    {
      "id": "7edc027c",
      "cell_type": "code",
      "source": "# Implemente sua solução aqui",
      "metadata": {},
      "outputs": [],
      "execution_count": null
    },
    {
      "id": "f4c4236d",
      "cell_type": "markdown",
      "source": "### Q6.\n\nDada uma lista aleatória, escreva um programa que separa os valores em listas menores de acordo com o tamanho solicitado. Caso não seja possível repartir igualmente a lista original, a última sublista deve conter os elementos remanescentes, como indicado no exemplo a seguir.\n\nNote que seu programa deve continuar executando em um laço infinito até que o usuário informe o tamanho 0 na entrada solicitada.\n\n```\nLista original:\n[12, 45, 23, 67, 78, 90, 45, 32, 100, 76, 38, 62, 73, 29, 83]\n\nTamanho para divisão: 3\nSubslistas:\n[[12, 45, 23], [67, 78, 90], [45, 32, 100], [76, 38, 62], [73, 29, 83]]\n\nTamanho para divisão: 4\nSubslistas: [[12, 45, 23, 67], [78, 90, 45, 32], [100, 76, 38, 62], [73, 29, 83]]\n\nTamanho para divisão: 0\n```",
      "metadata": {}
    },
    {
      "id": "792563de",
      "cell_type": "code",
      "source": "import random\nlista = [random.randint(1,100) for i in range(20)]\n\n# Implemente sua solução aqui",
      "metadata": {},
      "outputs": [],
      "execution_count": null
    },
    {
      "id": "c65be32f",
      "cell_type": "markdown",
      "source": "### Q7.\n\nVocê está desenvolvendo um programa para determinar o vencedor de um jogo da velha. Escreva uma função ```avalia_tabuleiro()``` que recebe uma lista representando o estado atual do tabuleiro e determina se há um vencedor. \n\nA lista terá 3 sublistas, cada uma representando uma linha do tabuleiro. Cada elemento das sublistas pode ser 'X', 'O' ou vazio (' ').\n\nO programa deve imprimir o vencedor ('X', 'O'), se houver um, ou \"Empate\" se não houver vencedor. Um vencedor é determinado se houver três 'X' ou três 'O' em linha (horizontal, vertical ou diagonal).\n\nExemplo:\n```python\ntabuleiro = [\n    ['X', 'O', 'X'],\n    [' ', 'X', 'O'],\n    ['O', ' ', 'O']\n]\n```\nO resultado seria \"Empate\", pois não há um vencedor no exemplo fornecido. \n\nExemplo 2:\n```python\ntabuleiro = [\n    ['O', 'X', 'O'],\n    ['X', 'O', 'X'],\n    ['X', ' ', 'O']\n]\n```\nO resultado seria \"O\", pois 'O' venceu na diagonal central.",
      "metadata": {}
    },
    {
      "id": "720ca24d",
      "cell_type": "code",
      "source": "### Escreva a função avalia_tabuleiro()\n\n\n\n\n### teste a função nos seguintes tabuleiros\n\ntabuleiro1 = [\n    ['X', 'O', 'X'],\n    [' ', 'X', 'O'],\n    ['O', ' ', 'X']\n]\n\ntabuleiro2 = [\n    ['X', 'O', 'O'],\n    ['X', 'X', 'O'],\n    ['X', 'O', 'X']\n]\n\ntabuleiro3 = [\n    [' ', ' ', ' '],\n    ['X', ' ', 'O'],\n    ['O', 'X', 'X']\n]\n\ntabuleiro4 = [\n    ['O', 'O', 'O'],\n    ['X', ' ', 'X'],\n    ['O', 'X', 'X']\n]\n\ntabuleiro5 = [\n    ['X', 'X', 'O'],\n    ['X', ' ', 'O'],\n    ['O', 'O', 'X']\n]",
      "metadata": {},
      "outputs": [],
      "execution_count": null
    }
  ]
}