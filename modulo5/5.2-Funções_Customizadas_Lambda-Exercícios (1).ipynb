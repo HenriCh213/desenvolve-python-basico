{
  "metadata": {
    "kernelspec": {
      "name": "python",
      "display_name": "Python (Pyodide)",
      "language": "python"
    },
    "language_info": {
      "codemirror_mode": {
        "name": "python",
        "version": 3
      },
      "file_extension": ".py",
      "mimetype": "text/x-python",
      "name": "python",
      "nbconvert_exporter": "python",
      "pygments_lexer": "ipython3",
      "version": "3.8"
    }
  },
  "nbformat_minor": 5,
  "nbformat": 4,
  "cells": [
    {
      "id": "cbdff5a5",
      "cell_type": "markdown",
      "source": "# Módulo 5 - Funções\n\n## Aulas 5.2 - Funções Customizadas e 5.4 Funções ```lambda```",
      "metadata": {}
    },
    {
      "id": "28a3fee2",
      "cell_type": "markdown",
      "source": "### Q1.\n\n- Sabendo que o código a seguir calcula o fatorial de n, escreva uma função chamada ```fatorial()``` que recebe um inteiro ```n``` como parâmetro e retorna o resultado do fatorial de ```n```. \n- No programa principal, peça ao usuário o valor de ```n```, chame a sua função e imprima o retorno.\n\n```python\nfat = 1\nfor i in range(1, n+1):\n    fat *= i \n```",
      "metadata": {}
    },
    {
      "id": "d126b3a5",
      "cell_type": "code",
      "source": "## Crie aqui a função fatorial()\n## lembre-se de executar a célula para que \n## a função passe a existir e possa ser chamada\ndef fatorial(n):\n    fat = 1\n    for i in range(1, n+1):\n        fat *= i \n    return fat",
      "metadata": {},
      "outputs": [],
      "execution_count": null
    },
    {
      "id": "6e4fe64e",
      "cell_type": "code",
      "source": "## Escreva aqui o programa principal e execute a célula\nn = int(input(\"Número: \"))\nfatorial1 = fatorial(n)\n\nprint(f\"O fatorial de {n} é {fatorial1}\")",
      "metadata": {},
      "outputs": [],
      "execution_count": null
    },
    {
      "id": "c0a1f599",
      "cell_type": "markdown",
      "source": "### Q2.\n\n- Escreva uma função em Python chamada ```soma_quadrados``` que recebe dois números como parâmetros e retorna a soma dos seus quadrados. \n- No programa principal solicite ao usuário que insira dois números e utilize a função para exibir a soma dos quadrados.",
      "metadata": {}
    },
    {
      "id": "6dbddaad",
      "cell_type": "code",
      "source": "## Crie aqui a função soma_quadrados()\ndef soma_quadrados (n1, n2):\n    soma = n1 * 2 +  n2 * 2\n    return soma",
      "metadata": {},
      "outputs": [],
      "execution_count": null
    },
    {
      "id": "9175a7da",
      "cell_type": "code",
      "source": "## Escreva aqui o programa principal e execute a célula\nn1 = float(input(\"Informe o primeiro número: \"))\nn2 = float(input(\"Informe o segundo número: \"))\n\nquadrado = soma_quadrados(n1, n2)\n\nprint(f\"O a soma dos quadrados de {n1} e {n2} é: {quadrado}\")",
      "metadata": {},
      "outputs": [],
      "execution_count": null
    },
    {
      "id": "6ba34ce0",
      "cell_type": "markdown",
      "source": "### Q3.\n\n- Crie uma função em Python chamada ```soma_digitos``` que recebe um número inteiro como parâmetro e retorna a soma dos seus dígitos. Por exemplo, para o número 123, a função deve retornar 6, $(1 + 2 + 3)$.\n    - O desafio aqui é separar os dígitos de um número inteiro usando operações aritméticas <br> <br>\n\n- No programa principal solicite ao usuário que insira um número e utilize a função ```soma_digitos``` para calcular e exibir a soma dos seus dígitos.",
      "metadata": {}
    },
    {
      "id": "34838ebf",
      "cell_type": "code",
      "source": "## Crie aqui a função soma_digitos()\ndef soma_digitos(n_int):\n    soma = 0\n    for digito in str(n_int):\n        soma += int(digito) \n    return soma",
      "metadata": {},
      "outputs": [],
      "execution_count": null
    },
    {
      "id": "27c35b21",
      "cell_type": "code",
      "source": "## Escreva aqui o programa principal e execute a célula\nn_int = int(input(\"Informe um número: \"))\nsoma_final = soma_digitos(n_int) \n\nprint(f\"A soma dos díigitos de {n_int} é: {soma_final}\")",
      "metadata": {},
      "outputs": [],
      "execution_count": null
    },
    {
      "id": "c318b159",
      "cell_type": "markdown",
      "source": "### Q4.\n\n- Crie a função ```inverteValor()``` que recebe um inteiro de qualquer tamanho e retorna esse valor invertido usando apenas operações aritméticas\n- Crie a função ```verificaInverso()``` que recebe o valor original e o valor invertido e retorna verdadeiro se ambos forem igualmente par ou igualmente ímpar. Retorne falso caso contrário.\n- No programa principal, peça um valor do usuário e imprima o retorno de ambas as funções.\n",
      "metadata": {}
    },
    {
      "id": "e4e47d1d",
      "cell_type": "code",
      "source": "## Crie aqui as funções inverteValor() e verificaInverso()\ndef inverte_valor(inteiro):\n    invertido = 0\n    while inteiro != 0:\n        digito = inteiro % 10\n        invertido = invertido * 10 + digito\n        inteiro //= 10\n\n    return invertido\n\ndef verifica_inverso(n_original, invertido):\n    if n_original and invertido % 2 == 0:\n        return True\n    else:\n        return False\n",
      "metadata": {},
      "outputs": [],
      "execution_count": null
    },
    {
      "id": "a9514e56",
      "cell_type": "code",
      "source": "## Escreva aqui o programa principal e execute a célula\ninteiro = int(input(\"Informe um valor: \"))\n\nvalor_invertido = inverte_valor(inteiro)\nverificando_inverso = verifica_inverso(inteiro, valor_invertido)\n\nprint(f\"O valor invertido é {valor_invertido} e ele é: {verificando_inverso}\")",
      "metadata": {},
      "outputs": [],
      "execution_count": null
    },
    {
      "id": "329be966",
      "cell_type": "markdown",
      "source": "### Q5.\n\nVocê está desenvolvendo um programa para auxiliar em cálculos de geometria básica. Crie as seguintes funções:\n- A função ```calcula_perimetro_triangulo()``` que recebe três inteiros correspondentes aos lados de um triângulo e retorna o perímetro do triângulo, ou seja, a soma dos seus lados.\n- A função ```calcula_perimetro_circulo()``` que recebe um inteiro referente ao raio do círculo e retorna o perímetro do círculo, dado por $2 \\pi r$. Use a constante $\\pi$ da biblioteca ```math```.\n- A função ```calcula_perimetro_retangulo()``` que possui um parâmetro obrigatório ```lado1``` e um opcional ```lado2```, ambos inteiros. Se o valor opcional não for fornecido, significa que se trata de um quadrado. Sua função deve calcular e retornar o perímetro do retângulo, ou seja, a soma de seus lados. \n    - Para o quadrado, é dado por $4 \\times lado1$\n    - Para o retângulo é dado por $2 \\times lado1 + 2 \\times lado2$\n    \n- No programa principal apresente um menu com as opções disponíveis do seu sistema e uma quarta opção ```Sair```. Solicite ao usuário a opção desejada, solicite as entradas correspondentes à opção escolhida, invoque a respective função e apresente o seu retorno. Seu programa deve retornar ao menu até que o usuário escolha a opção ```Sair```\n\nExemplo de interação:\n```\n1 - Calcular perímetro triângulo\n2 - Calcular perímetro círculo\n3 - Calcular perímetro retângulo\n4 - Sair\n\nOpção: 1\nDigite os três lados do triângulo:\n3\n4\n5\nO perímetro é: 12\n\n1 - Calcular perímetro triângulo\n2 - Calcular perímetro círculo\n3 - Calcular perímetro retângulo\n4 - Sair\n\nOpção: 3\nInforme os dois lados do retângulo. Se for um quadrado, digite 0 para o segundo valor:\n5\n0\nO perímetro é: 20\n\n1 - Calcular perímetro triângulo\n2 - Calcular perímetro círculo\n3 - Calcular perímetro retângulo\n4 - Sair\n\nOpção: 4\n```",
      "metadata": {}
    },
    {
      "id": "0793d328",
      "cell_type": "code",
      "source": "## Crie aqui as funções \n\ndef calcula_perimetro_triangulo(lados):\n    soma = 0\n    for i in lados:\n        soma += i\n    return soma\ndef calcula_perimetro_circulo(r):\n    pi = math.pi\n    raio = 2*pi*r\n    return raio\n\ndef calcula_perimetro_retangulo(lados):\n    if lados[1] == 0:\n        quadrado = 4*lados[0]\n        return quadrado\n    else:\n        retangulo = 2*lados[0] + 2*lados[1]\n        return retangulo",
      "metadata": {},
      "outputs": [],
      "execution_count": null
    },
    {
      "id": "36269c71",
      "cell_type": "code",
      "source": "## Escreva aqui o programa principal \nimport math\n\nSair = False\n\nwhile Sair != True:\n    opcao = int(input(\"1 - Calcular o perímetro triângulo\\n\" \\\n    \"2 - Calcular o perímetro círculo\\n\" \\\n    \"3 - Calcular o perímetro retângulo\\n\" \\\n    \"4 - Sair\\n\"))\n    if opcao == 1:\n        print(\"Digite os três lados do triângulo:\")\n        tri = []\n        for n in range(3):\n            lados = int(input(\"\"))\n            tri.append(lados)\n        perimetro_triangulo = calcula_perimetro_triangulo(tri)   \n        print(f\"O perímetro é: {perimetro_triangulo}\")\n    elif opcao == 2:\n        raio = int(input(\"Digite o raio do círculo:\\n\"))\n        perimetro_circulo = calcula_perimetro_circulo(raio)\n        print(f\"O perímetro é: {perimetro_circulo}\")\n    elif opcao == 3: \n        print(\"Informe os dois lados do retângulo. Se for um quadrado, digite 0 para o segundo valor:\")\n        ret = []\n        for n in range(2):\n            lado = int(input(\"\"))\n            ret.append(lado)\n        perimetro_retangulo = calcula_perimetro_retangulo(ret)\n        print(f\"O perímetro é: {perimetro_retangulo}\")\n    elif opcao == 4:\n        Sair = True",
      "metadata": {},
      "outputs": [],
      "execution_count": null
    },
    {
      "id": "3016bcc7",
      "cell_type": "markdown",
      "source": "## Funções ```lambda```",
      "metadata": {}
    },
    {
      "id": "f9cdb8dd",
      "cell_type": "markdown",
      "source": "### Q6.\n\nCrie uma função lambda para verificar se um número é par ou ímpar. Em seguida, solicite ao usuário um número indefinidos de valores (até que o usuário digite 0). Para cada valor de entrada, informe se é par ou ímpar.\n\nExemplo de interação:\n```\nDigite os valores que deseja verificar a paridade (digite 0 para finalizar a entrada de dados):\n3\nímpar\n8\npar\n12\npar\n5\nímpar\n7ímpar\n```",
      "metadata": {}
    },
    {
      "id": "e3c31a78",
      "cell_type": "code",
      "source": "verifica_par_impar = lambda x: \"Par\" if x % 2 == 0 else \"Ímpar\"\n\nwhile True:\n    numero = int(input(\"Digite um número (digite 0 para sair): \"))\n    \n    if numero == 0:\n        break\n    \n    resultado = verifica_par_impar(numero)\n    print(f\"O número {numero} é {resultado}.\") ",
      "metadata": {},
      "outputs": [],
      "execution_count": null
    },
    {
      "id": "5a87474d",
      "cell_type": "markdown",
      "source": "### Q7.\n\nEscreva um programa que pergunte ao usuário qual operação ele deseja: maior ou menor.\nEm seguida leia uma quantidade indefinida de valores do usuário, até que o usuário digite o valor zero.\nApresente ao final o maior ou menor dos valores digitados de acordo com a escolha do usuário.\n\n**Sua solução deve incluir pelo menos uma função ```lambda```** \n\nExemplo de interação:\n```\nOpções: (1) maior ou (2) menor?\nOpção: 1\n\nDigite os valores de entrada. Digite 0 para finalizar a entrada de valores.\n4\n12\n15\n1\n0\n\nO maior valor é: 15\n```",
      "metadata": {}
    },
    {
      "id": "ee3f68ca",
      "cell_type": "code",
      "source": "## Escreva aqui o programa principal \nmenor = lambda x, y: x if x < y else y\nmaior = lambda x, y: x if x > y else y\n\nmaior_ou_menor = input(\"Você deseja achar o menor ou o maior valor? Digite 'maior' ou 'menor': \")\n\nresultado = float(input(\"Informe um valor (Digite 0 para parar): \"))\n\n\nwhile True:\n    n = float(input(\"Informe um valor (Digite 0 para parar): \"))\n    if n == 0:\n        break\n    else:\n        if maior_ou_menor   == \"maior\":\n            resultado = maior(resultado, n)\n        elif maior_ou_menor == \"menor\":\n            resultado = menor(resultado, n)\n\n\nprint(f\"O {maior_ou_menor} número digitato foi: {resultado}\")",
      "metadata": {},
      "outputs": [],
      "execution_count": null
    }
  ]
}